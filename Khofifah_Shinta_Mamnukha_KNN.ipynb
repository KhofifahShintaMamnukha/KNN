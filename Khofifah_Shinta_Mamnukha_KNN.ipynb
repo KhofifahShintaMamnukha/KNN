{
  "nbformat": 4,
  "nbformat_minor": 5,
  "metadata": {
    "kernelspec": {
      "display_name": "Python 3",
      "language": "python",
      "name": "python3"
    },
    "language_info": {
      "codemirror_mode": {
        "name": "ipython",
        "version": 3
      },
      "file_extension": ".py",
      "mimetype": "text/x-python",
      "name": "python",
      "nbconvert_exporter": "python",
      "pygments_lexer": "ipython3",
      "version": "3.8.8"
    },
    "colab": {
      "name": "Khofifah Shinta Mamnukha_T7.ipynb",
      "provenance": []
    }
  },
  "cells": [
    {
      "cell_type": "markdown",
      "metadata": {
        "id": "f98c4320"
      },
      "source": [
        "# KMeans"
      ],
      "id": "f98c4320"
    },
    {
      "cell_type": "code",
      "metadata": {
        "id": "82c73f7a"
      },
      "source": [
        "https://raw.githubusercontent.com/jumadi-cloud/Fundamental-Python/main/Dataset/konsumen2.csv"
      ],
      "id": "82c73f7a",
      "execution_count": null,
      "outputs": []
    },
    {
      "cell_type": "code",
      "metadata": {
        "id": "966916d7"
      },
      "source": [
        "import numpy as np\n",
        "import matplotlib.pyplot as plt\n",
        "import pandas as pd\n",
        "import numpy as np\n",
        "from sklearn.cluster import KMeans\n",
        "from sklearn import metrics\n",
        "from sklearn.metrics import pairwise_distances    "
      ],
      "id": "966916d7",
      "execution_count": null,
      "outputs": []
    },
    {
      "cell_type": "code",
      "metadata": {
        "id": "c877a740",
        "outputId": "4a55794e-c5ae-4cb8-f674-64964cde3833"
      },
      "source": [
        "#Memanggil dataset dari github\n",
        "Dataset = pd.read_csv('https://raw.githubusercontent.com/jumadi-cloud/Fundamental-Python/main/Dataset/konsumen2.csv')\n",
        "Dataset.keys()"
      ],
      "id": "c877a740",
      "execution_count": null,
      "outputs": [
        {
          "data": {
            "text/plain": [
              "Index(['Gaji', 'Pengeluaran'], dtype='object')"
            ]
          },
          "execution_count": 5,
          "metadata": {},
          "output_type": "execute_result"
        }
      ]
    },
    {
      "cell_type": "code",
      "metadata": {
        "id": "ece528c2",
        "outputId": "20c9e103-0da7-4e56-a9c1-31408247d144"
      },
      "source": [
        "#Menampilkan 5 baris pertama dataset\n",
        "dataku = pd.DataFrame(Dataset)\n",
        "dataku.head()"
      ],
      "id": "ece528c2",
      "execution_count": null,
      "outputs": [
        {
          "data": {
            "text/html": [
              "<div>\n",
              "<style scoped>\n",
              "    .dataframe tbody tr th:only-of-type {\n",
              "        vertical-align: middle;\n",
              "    }\n",
              "\n",
              "    .dataframe tbody tr th {\n",
              "        vertical-align: top;\n",
              "    }\n",
              "\n",
              "    .dataframe thead th {\n",
              "        text-align: right;\n",
              "    }\n",
              "</style>\n",
              "<table border=\"1\" class=\"dataframe\">\n",
              "  <thead>\n",
              "    <tr style=\"text-align: right;\">\n",
              "      <th></th>\n",
              "      <th>Gaji</th>\n",
              "      <th>Pengeluaran</th>\n",
              "    </tr>\n",
              "  </thead>\n",
              "  <tbody>\n",
              "    <tr>\n",
              "      <th>0</th>\n",
              "      <td>2500</td>\n",
              "      <td>1750</td>\n",
              "    </tr>\n",
              "    <tr>\n",
              "      <th>1</th>\n",
              "      <td>3800</td>\n",
              "      <td>4200</td>\n",
              "    </tr>\n",
              "    <tr>\n",
              "      <th>2</th>\n",
              "      <td>3900</td>\n",
              "      <td>3800</td>\n",
              "    </tr>\n",
              "    <tr>\n",
              "      <th>3</th>\n",
              "      <td>4350</td>\n",
              "      <td>5500</td>\n",
              "    </tr>\n",
              "    <tr>\n",
              "      <th>4</th>\n",
              "      <td>4400</td>\n",
              "      <td>3200</td>\n",
              "    </tr>\n",
              "  </tbody>\n",
              "</table>\n",
              "</div>"
            ],
            "text/plain": [
              "   Gaji  Pengeluaran\n",
              "0  2500         1750\n",
              "1  3800         4200\n",
              "2  3900         3800\n",
              "3  4350         5500\n",
              "4  4400         3200"
            ]
          },
          "execution_count": 7,
          "metadata": {},
          "output_type": "execute_result"
        }
      ]
    },
    {
      "cell_type": "code",
      "metadata": {
        "id": "03a17065",
        "outputId": "b85c522e-c416-4ecc-d8e4-aec8d7718cfb"
      },
      "source": [
        "#konversi data ke array\n",
        "X = np.asarray(Dataset)\n",
        "print(X)"
      ],
      "id": "03a17065",
      "execution_count": null,
      "outputs": [
        {
          "name": "stdout",
          "output_type": "stream",
          "text": [
            "[[ 2500  1750]\n",
            " [ 3800  4200]\n",
            " [ 3900  3800]\n",
            " [ 4350  5500]\n",
            " [ 4400  3200]\n",
            " [ 5500  5450]\n",
            " [ 5600  5950]\n",
            " [ 5750  4100]\n",
            " [ 6850  6050]\n",
            " [ 6900  8500]\n",
            " [ 7250  9500]\n",
            " [ 7350  6050]\n",
            " [ 7500  8500]\n",
            " [ 7800  9500]\n",
            " [ 8200  8300]\n",
            " [ 8500  6500]\n",
            " [ 8550  8400]\n",
            " [ 8750  6000]\n",
            " [ 9100 10500]\n",
            " [ 9100  8500]]\n"
          ]
        }
      ]
    },
    {
      "cell_type": "code",
      "metadata": {
        "id": "bc7ca51e",
        "outputId": "a4a71973-eb7a-43ee-b743-697cb02d1178"
      },
      "source": [
        "#menampilkan data as scatter plot\n",
        "plt.scatter(X[:,0] ,X[:,1], label = 'True Position')\n",
        "plt.xlabel(\"Gaji\")\n",
        "plt.ylabel(\"Pengeluaran\")\n",
        "plt.title(\"Grafik konsumen\")\n",
        "plt.show()"
      ],
      "id": "bc7ca51e",
      "execution_count": null,
      "outputs": [
        {
          "data": {
            "image/png": "[encoded data removed]",
            "text/plain": [
              "<Figure size 432x288 with 1 Axes>"
            ]
          },
          "metadata": {
            "needs_background": "light"
          },
          "output_type": "display_data"
        }
      ]
    },
    {
      "cell_type": "code",
      "metadata": {
        "scrolled": true,
        "id": "6d6dc28e",
        "outputId": "9e9edb43-635b-4e24-a3e6-85b57507c8b5"
      },
      "source": [
        "#mengaktifkan K Means dgn K = 2\n",
        "kmeans = KMeans(n_clusters=2, random_state=4)\n",
        "kmeans.fit(X)"
      ],
      "id": "6d6dc28e",
      "execution_count": null,
      "outputs": [
        {
          "data": {
            "text/plain": [
              "KMeans(n_clusters=2, random_state=4)"
            ]
          },
          "execution_count": 13,
          "metadata": {},
          "output_type": "execute_result"
        }
      ]
    },
    {
      "cell_type": "code",
      "metadata": {
        "id": "ebe494cb",
        "outputId": "efa3c415-f5d0-4920-b3d7-2c253a07b45e"
      },
      "source": [
        "#menampilkan nilai centroid yang digenerate algo\n",
        "print(kmeans.cluster_centers_)"
      ],
      "id": "ebe494cb",
      "execution_count": null,
      "outputs": [
        {
          "name": "stdout",
          "output_type": "stream",
          "text": [
            "[[7987.5  8025.  ]\n",
            " [4475.   4243.75]]\n"
          ]
        }
      ]
    },
    {
      "cell_type": "code",
      "metadata": {
        "id": "6f3fb368",
        "outputId": "8aaa9083-ee9f-4bae-cc91-c6c2356e9e45"
      },
      "source": [
        "#menampilkan label data point\n",
        "print(kmeans.labels_)"
      ],
      "id": "6f3fb368",
      "execution_count": null,
      "outputs": [
        {
          "name": "stdout",
          "output_type": "stream",
          "text": [
            "[1 1 1 1 1 1 1 1 0 0 0 0 0 0 0 0 0 0 0 0]\n"
          ]
        }
      ]
    },
    {
      "cell_type": "code",
      "metadata": {
        "id": "4d5da3f8",
        "outputId": "9e76d56e-b2dd-466b-dbbf-c2a00cb5ebec"
      },
      "source": [
        "#menghitung silhoute score\n",
        "metrics.silhouette_score(X, kmeans.labels_, metric='euclidean')"
      ],
      "id": "4d5da3f8",
      "execution_count": null,
      "outputs": [
        {
          "data": {
            "text/plain": [
              "0.5554663423362192"
            ]
          },
          "execution_count": 19,
          "metadata": {},
          "output_type": "execute_result"
        }
      ]
    },
    {
      "cell_type": "code",
      "metadata": {
        "id": "4b5837e1",
        "outputId": "12ca5e6f-1502-4447-c991-6df16f3b69ad"
      },
      "source": [
        "#plot data point, memvisualisasikan ttitik yg telah diklasterkan\n",
        "\n",
        "plt.scatter(X[:,0] ,X[:,1], c=kmeans.labels_, cmap='rainbow')\n",
        "plt.xlabel(\"Gaji\")\n",
        "plt.ylabel(\"Pengeluaran\")\n",
        "plt.title(\"Grafik konsumen\")\n",
        "plt.show()"
      ],
      "id": "4b5837e1",
      "execution_count": null,
      "outputs": [
        {
          "data": {
            "image/png": "[encoded data removed]",
            "text/plain": [
              "<Figure size 432x288 with 1 Axes>"
            ]
          },
          "metadata": {
            "needs_background": "light"
          },
          "output_type": "display_data"
        }
      ]
    },
    {
      "cell_type": "code",
      "metadata": {
        "id": "7747ec13",
        "outputId": "1d23758a-b9c3-4d79-dbce-4ef35c634d9d"
      },
      "source": [
        "#plot data point, visualisasi data yg telah diklaster, menampilkan centroid\n",
        "plt.scatter(X[:,0] ,X[:,1], c=kmeans.labels_, cmap='rainbow')\n",
        "plt.scatter(kmeans.cluster_centers_[:,0],kmeans.cluster_centers_[:,1],color='yellow')\n",
        "plt.xlabel(\"Gaji\")\n",
        "plt.ylabel(\"Pengeluaran\")\n",
        "plt.title(\"Grafik konsumen\")\n",
        "plt.show()"
      ],
      "id": "7747ec13",
      "execution_count": null,
      "outputs": [
        {
          "data": {
            "image/png": "[encoded data removed]",
            "text/plain": [
              "<Figure size 432x288 with 1 Axes>"
            ]
          },
          "metadata": {
            "needs_background": "light"
          },
          "output_type": "display_data"
        }
      ]
    },
    {
      "cell_type": "code",
      "metadata": {
        "id": "278742a9",
        "outputId": "ea9ecbd2-b635-455c-c81a-5aa41c9e2b31"
      },
      "source": [
        "#melakukan pencarian k terbaik\n",
        "ks = 10\n",
        "sil_score = np.zeros(ks) #wadah array u/ menyimpan sil_houte sbnyk ks\n",
        "for k in range(1, ks+1):\n",
        "    kmeans = KMeans(n_clusters=k, random_state=4)\n",
        "    kmeans.fit(X)\n",
        "    \n",
        "    if k!=1: #k tdk blh = 1 krn dia menghitung jarak antara 2 centroid or lebuh\n",
        "        s_score = metrics.silhouette_score(X, kmeans.labels_, metric='euclidean')\n",
        "        sil_score[k-1] = s_score\n",
        "        \n",
        "sil_score"
      ],
      "id": "278742a9",
      "execution_count": null,
      "outputs": [
        {
          "name": "stderr",
          "output_type": "stream",
          "text": [
            "C:\\Users\\user\\anaconda3\\lib\\site-packages\\sklearn\\cluster\\_kmeans.py:881: UserWarning: KMeans is known to have a memory leak on Windows with MKL, when there are less chunks than available threads. You can avoid it by setting the environment variable OMP_NUM_THREADS=1.\n",
            "  warnings.warn(\n"
          ]
        },
        {
          "data": {
            "text/plain": [
              "array([0.        , 0.55546634, 0.46139304, 0.46112701, 0.45770278,\n",
              "       0.40415459, 0.41441123, 0.427705  , 0.42968032, 0.44850758])"
            ]
          },
          "execution_count": 24,
          "metadata": {},
          "output_type": "execute_result"
        }
      ]
    },
    {
      "cell_type": "code",
      "metadata": {
        "id": "14bfb0a2",
        "outputId": "6a612fc7-0a30-4a90-f7e3-75bdc86eba14"
      },
      "source": [
        "#menampilkan hasil silhoutte tiap K\n",
        "\n",
        "plt.plot(range(1, ks+1),sil_score,'g')\n",
        "plt.legend(('silhouete score'))\n",
        "plt.ylabel('silhoute score')\n",
        "plt.xlabel('Number of Nabors (K)')\n",
        "plt.tight_layout()\n",
        "plt.show"
      ],
      "id": "14bfb0a2",
      "execution_count": null,
      "outputs": [
        {
          "data": {
            "text/plain": [
              "<function matplotlib.pyplot.show(close=None, block=None)>"
            ]
          },
          "execution_count": 25,
          "metadata": {},
          "output_type": "execute_result"
        },
        {
          "data": {
            "image/png": "[encoded data removed]",
            "text/plain": [
              "<Figure size 432x288 with 1 Axes>"
            ]
          },
          "metadata": {
            "needs_background": "light"
          },
          "output_type": "display_data"
        }
      ]
    },
    {
      "cell_type": "code",
      "metadata": {
        "id": "f6c1a85f"
      },
      "source": [
        ""
      ],
      "id": "f6c1a85f",
      "execution_count": null,
      "outputs": []
    }
  ]
}